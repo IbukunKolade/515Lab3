{
 "cells": [
  {
   "cell_type": "markdown",
   "id": "368a7d50",
   "metadata": {},
   "source": [
    "# Lab 3\n",
    "## 3.3.2024"
   ]
  },
  {
   "cell_type": "markdown",
   "id": "f0577a9f",
   "metadata": {},
   "source": [
    "## Arch Model"
   ]
  },
  {
   "cell_type": "markdown",
   "id": "2b1eeb02",
   "metadata": {},
   "source": [
    "a statistical model for time series data that describes the variance of the current error term or innovation as a function of the actual sizes of the previous time periods' error terms"
   ]
  },
  {
   "cell_type": "markdown",
   "id": "c024d030",
   "metadata": {},
   "source": [
    "### Preparation"
   ]
  },
  {
   "cell_type": "code",
   "execution_count": 1,
   "id": "06ef5c1e",
   "metadata": {},
   "outputs": [],
   "source": [
    "import pandas as pd\n",
    "from statsmodels.tsa.stattools import adfuller\n",
    "from arch import arch_model"
   ]
  },
  {
   "cell_type": "code",
   "execution_count": 2,
   "id": "942e0016-3612-410b-932d-41efb0e416e9",
   "metadata": {},
   "outputs": [],
   "source": [
    "XOM = pd.read_csv(\"XOM.csv\")"
   ]
  },
  {
   "cell_type": "markdown",
   "id": "c2981889",
   "metadata": {},
   "source": [
    "## Test for stationarity"
   ]
  },
  {
   "cell_type": "code",
   "execution_count": 3,
   "id": "323c25a1",
   "metadata": {},
   "outputs": [
    {
     "data": {
      "text/html": [
       "<div>\n",
       "<style scoped>\n",
       "    .dataframe tbody tr th:only-of-type {\n",
       "        vertical-align: middle;\n",
       "    }\n",
       "\n",
       "    .dataframe tbody tr th {\n",
       "        vertical-align: top;\n",
       "    }\n",
       "\n",
       "    .dataframe thead th {\n",
       "        text-align: right;\n",
       "    }\n",
       "</style>\n",
       "<table border=\"1\" class=\"dataframe\">\n",
       "  <thead>\n",
       "    <tr style=\"text-align: right;\">\n",
       "      <th></th>\n",
       "      <th>Date</th>\n",
       "      <th>Open</th>\n",
       "      <th>High</th>\n",
       "      <th>Low</th>\n",
       "      <th>Close</th>\n",
       "      <th>Adj Close</th>\n",
       "      <th>Volume</th>\n",
       "    </tr>\n",
       "  </thead>\n",
       "  <tbody>\n",
       "    <tr>\n",
       "      <th>0</th>\n",
       "      <td>1962-01-02</td>\n",
       "      <td>0.0</td>\n",
       "      <td>1.589844</td>\n",
       "      <td>1.578125</td>\n",
       "      <td>1.578125</td>\n",
       "      <td>0.095784</td>\n",
       "      <td>902400</td>\n",
       "    </tr>\n",
       "    <tr>\n",
       "      <th>1</th>\n",
       "      <td>1962-01-03</td>\n",
       "      <td>0.0</td>\n",
       "      <td>1.601563</td>\n",
       "      <td>1.578125</td>\n",
       "      <td>1.601563</td>\n",
       "      <td>0.097206</td>\n",
       "      <td>1200000</td>\n",
       "    </tr>\n",
       "    <tr>\n",
       "      <th>2</th>\n",
       "      <td>1962-01-04</td>\n",
       "      <td>0.0</td>\n",
       "      <td>1.613281</td>\n",
       "      <td>1.597656</td>\n",
       "      <td>1.605469</td>\n",
       "      <td>0.097444</td>\n",
       "      <td>1088000</td>\n",
       "    </tr>\n",
       "    <tr>\n",
       "      <th>3</th>\n",
       "      <td>1962-01-05</td>\n",
       "      <td>0.0</td>\n",
       "      <td>1.613281</td>\n",
       "      <td>1.566406</td>\n",
       "      <td>1.570313</td>\n",
       "      <td>0.095310</td>\n",
       "      <td>1222400</td>\n",
       "    </tr>\n",
       "    <tr>\n",
       "      <th>4</th>\n",
       "      <td>1962-01-08</td>\n",
       "      <td>0.0</td>\n",
       "      <td>1.582031</td>\n",
       "      <td>1.546875</td>\n",
       "      <td>1.566406</td>\n",
       "      <td>0.095073</td>\n",
       "      <td>1388800</td>\n",
       "    </tr>\n",
       "  </tbody>\n",
       "</table>\n",
       "</div>"
      ],
      "text/plain": [
       "         Date  Open      High       Low     Close  Adj Close   Volume\n",
       "0  1962-01-02   0.0  1.589844  1.578125  1.578125   0.095784   902400\n",
       "1  1962-01-03   0.0  1.601563  1.578125  1.601563   0.097206  1200000\n",
       "2  1962-01-04   0.0  1.613281  1.597656  1.605469   0.097444  1088000\n",
       "3  1962-01-05   0.0  1.613281  1.566406  1.570313   0.095310  1222400\n",
       "4  1962-01-08   0.0  1.582031  1.546875  1.566406   0.095073  1388800"
      ]
     },
     "execution_count": 3,
     "metadata": {},
     "output_type": "execute_result"
    }
   ],
   "source": [
    "XOM.head()"
   ]
  },
  {
   "cell_type": "code",
   "execution_count": 5,
   "id": "3d2a90c3-daea-444e-a3db-cd57f15a4eb8",
   "metadata": {},
   "outputs": [
    {
     "data": {
      "text/html": [
       "<div>\n",
       "<style scoped>\n",
       "    .dataframe tbody tr th:only-of-type {\n",
       "        vertical-align: middle;\n",
       "    }\n",
       "\n",
       "    .dataframe tbody tr th {\n",
       "        vertical-align: top;\n",
       "    }\n",
       "\n",
       "    .dataframe thead th {\n",
       "        text-align: right;\n",
       "    }\n",
       "</style>\n",
       "<table border=\"1\" class=\"dataframe\">\n",
       "  <thead>\n",
       "    <tr style=\"text-align: right;\">\n",
       "      <th></th>\n",
       "      <th>Open</th>\n",
       "      <th>High</th>\n",
       "      <th>Low</th>\n",
       "      <th>Close</th>\n",
       "      <th>Adj Close</th>\n",
       "      <th>Volume</th>\n",
       "    </tr>\n",
       "    <tr>\n",
       "      <th>Date</th>\n",
       "      <th></th>\n",
       "      <th></th>\n",
       "      <th></th>\n",
       "      <th></th>\n",
       "      <th></th>\n",
       "      <th></th>\n",
       "    </tr>\n",
       "  </thead>\n",
       "  <tbody>\n",
       "    <tr>\n",
       "      <th>1962-01-02</th>\n",
       "      <td>0.0</td>\n",
       "      <td>1.589844</td>\n",
       "      <td>1.578125</td>\n",
       "      <td>1.578125</td>\n",
       "      <td>0.095784</td>\n",
       "      <td>902400</td>\n",
       "    </tr>\n",
       "    <tr>\n",
       "      <th>1962-01-03</th>\n",
       "      <td>0.0</td>\n",
       "      <td>1.601563</td>\n",
       "      <td>1.578125</td>\n",
       "      <td>1.601563</td>\n",
       "      <td>0.097206</td>\n",
       "      <td>1200000</td>\n",
       "    </tr>\n",
       "    <tr>\n",
       "      <th>1962-01-04</th>\n",
       "      <td>0.0</td>\n",
       "      <td>1.613281</td>\n",
       "      <td>1.597656</td>\n",
       "      <td>1.605469</td>\n",
       "      <td>0.097444</td>\n",
       "      <td>1088000</td>\n",
       "    </tr>\n",
       "    <tr>\n",
       "      <th>1962-01-05</th>\n",
       "      <td>0.0</td>\n",
       "      <td>1.613281</td>\n",
       "      <td>1.566406</td>\n",
       "      <td>1.570313</td>\n",
       "      <td>0.095310</td>\n",
       "      <td>1222400</td>\n",
       "    </tr>\n",
       "    <tr>\n",
       "      <th>1962-01-08</th>\n",
       "      <td>0.0</td>\n",
       "      <td>1.582031</td>\n",
       "      <td>1.546875</td>\n",
       "      <td>1.566406</td>\n",
       "      <td>0.095073</td>\n",
       "      <td>1388800</td>\n",
       "    </tr>\n",
       "  </tbody>\n",
       "</table>\n",
       "</div>"
      ],
      "text/plain": [
       "            Open      High       Low     Close  Adj Close   Volume\n",
       "Date                                                              \n",
       "1962-01-02   0.0  1.589844  1.578125  1.578125   0.095784   902400\n",
       "1962-01-03   0.0  1.601563  1.578125  1.601563   0.097206  1200000\n",
       "1962-01-04   0.0  1.613281  1.597656  1.605469   0.097444  1088000\n",
       "1962-01-05   0.0  1.613281  1.566406  1.570313   0.095310  1222400\n",
       "1962-01-08   0.0  1.582031  1.546875  1.566406   0.095073  1388800"
      ]
     },
     "execution_count": 5,
     "metadata": {},
     "output_type": "execute_result"
    }
   ],
   "source": [
    "XOM = pd.read_csv(\"XOM.csv\", index_col = 0)\n",
    "XOM.head()"
   ]
  },
  {
   "cell_type": "code",
   "execution_count": 7,
   "id": "18000a57-0bcb-4d1f-b2da-75904dbba7ca",
   "metadata": {},
   "outputs": [
    {
     "name": "stdout",
     "output_type": "stream",
     "text": [
      "0.997174982990766\n"
     ]
    }
   ],
   "source": [
    "print(adfuller(XOM[\"Adj Close\"])[1])"
   ]
  },
  {
   "cell_type": "markdown",
   "id": "4aefa808",
   "metadata": {},
   "source": [
    "## Detrending and test again"
   ]
  },
  {
   "cell_type": "code",
   "execution_count": 12,
   "id": "a225a1cf",
   "metadata": {},
   "outputs": [
    {
     "name": "stdout",
     "output_type": "stream",
     "text": [
      "0.0\n"
     ]
    }
   ],
   "source": [
    "returns = 100*XOM[\"Adj Close\"].pct_change().dropna()\n",
    "returns.head()\n",
    "print(adfuller(returns)[1])"
   ]
  },
  {
   "cell_type": "markdown",
   "id": "b9e90146",
   "metadata": {},
   "source": [
    "## Arch Model"
   ]
  },
  {
   "cell_type": "code",
   "execution_count": null,
   "id": "69079513",
   "metadata": {},
   "outputs": [],
   "source": []
  },
  {
   "cell_type": "markdown",
   "id": "5787fbce",
   "metadata": {},
   "source": [
    "## GARCH Model"
   ]
  },
  {
   "cell_type": "code",
   "execution_count": null,
   "id": "82618039",
   "metadata": {},
   "outputs": [],
   "source": []
  }
 ],
 "metadata": {
  "kernelspec": {
   "display_name": "Python 3 (ipykernel)",
   "language": "python",
   "name": "python3"
  },
  "language_info": {
   "codemirror_mode": {
    "name": "ipython",
    "version": 3
   },
   "file_extension": ".py",
   "mimetype": "text/x-python",
   "name": "python",
   "nbconvert_exporter": "python",
   "pygments_lexer": "ipython3",
   "version": "3.11.7"
  }
 },
 "nbformat": 4,
 "nbformat_minor": 5
}
