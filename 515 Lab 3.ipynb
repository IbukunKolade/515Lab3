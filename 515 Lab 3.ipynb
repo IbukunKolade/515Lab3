{
 "cells": [
  {
   "cell_type": "markdown",
   "id": "368a7d50",
   "metadata": {},
   "source": [
    "# Lab 3\n",
    "## 3.3.2024"
   ]
  },
  {
   "cell_type": "markdown",
   "id": "f0577a9f",
   "metadata": {},
   "source": [
    "## Arch Model"
   ]
  },
  {
   "cell_type": "markdown",
   "id": "2b1eeb02",
   "metadata": {},
   "source": [
    "a statistical model for time series data that describes the variance of the current error term or innovation as a function of the actual sizes of the previous time periods' error terms"
   ]
  },
  {
   "cell_type": "markdown",
   "id": "c024d030",
   "metadata": {},
   "source": [
    "### Preparation"
   ]
  },
  {
   "cell_type": "code",
   "execution_count": 1,
   "id": "06ef5c1e",
   "metadata": {},
   "outputs": [],
   "source": [
    "import pandas as pd\n",
    "from statsmodels.tsa.stattools import adfuller\n",
    "from arch import arch_model"
   ]
  },
  {
   "cell_type": "code",
   "execution_count": 2,
   "id": "942e0016-3612-410b-932d-41efb0e416e9",
   "metadata": {},
   "outputs": [],
   "source": [
    "XOM = pd.read_csv(\"XOM.csv\")"
   ]
  },
  {
   "cell_type": "markdown",
   "id": "c2981889",
   "metadata": {},
   "source": [
    "## Test for stationarity"
   ]
  },
  {
   "cell_type": "code",
   "execution_count": 3,
   "id": "323c25a1",
   "metadata": {},
   "outputs": [
    {
     "data": {
      "text/html": [
       "<div>\n",
       "<style scoped>\n",
       "    .dataframe tbody tr th:only-of-type {\n",
       "        vertical-align: middle;\n",
       "    }\n",
       "\n",
       "    .dataframe tbody tr th {\n",
       "        vertical-align: top;\n",
       "    }\n",
       "\n",
       "    .dataframe thead th {\n",
       "        text-align: right;\n",
       "    }\n",
       "</style>\n",
       "<table border=\"1\" class=\"dataframe\">\n",
       "  <thead>\n",
       "    <tr style=\"text-align: right;\">\n",
       "      <th></th>\n",
       "      <th>Date</th>\n",
       "      <th>Open</th>\n",
       "      <th>High</th>\n",
       "      <th>Low</th>\n",
       "      <th>Close</th>\n",
       "      <th>Adj Close</th>\n",
       "      <th>Volume</th>\n",
       "    </tr>\n",
       "  </thead>\n",
       "  <tbody>\n",
       "    <tr>\n",
       "      <th>0</th>\n",
       "      <td>1962-01-02</td>\n",
       "      <td>0.0</td>\n",
       "      <td>1.589844</td>\n",
       "      <td>1.578125</td>\n",
       "      <td>1.578125</td>\n",
       "      <td>0.095784</td>\n",
       "      <td>902400</td>\n",
       "    </tr>\n",
       "    <tr>\n",
       "      <th>1</th>\n",
       "      <td>1962-01-03</td>\n",
       "      <td>0.0</td>\n",
       "      <td>1.601563</td>\n",
       "      <td>1.578125</td>\n",
       "      <td>1.601563</td>\n",
       "      <td>0.097206</td>\n",
       "      <td>1200000</td>\n",
       "    </tr>\n",
       "    <tr>\n",
       "      <th>2</th>\n",
       "      <td>1962-01-04</td>\n",
       "      <td>0.0</td>\n",
       "      <td>1.613281</td>\n",
       "      <td>1.597656</td>\n",
       "      <td>1.605469</td>\n",
       "      <td>0.097444</td>\n",
       "      <td>1088000</td>\n",
       "    </tr>\n",
       "    <tr>\n",
       "      <th>3</th>\n",
       "      <td>1962-01-05</td>\n",
       "      <td>0.0</td>\n",
       "      <td>1.613281</td>\n",
       "      <td>1.566406</td>\n",
       "      <td>1.570313</td>\n",
       "      <td>0.095310</td>\n",
       "      <td>1222400</td>\n",
       "    </tr>\n",
       "    <tr>\n",
       "      <th>4</th>\n",
       "      <td>1962-01-08</td>\n",
       "      <td>0.0</td>\n",
       "      <td>1.582031</td>\n",
       "      <td>1.546875</td>\n",
       "      <td>1.566406</td>\n",
       "      <td>0.095073</td>\n",
       "      <td>1388800</td>\n",
       "    </tr>\n",
       "  </tbody>\n",
       "</table>\n",
       "</div>"
      ],
      "text/plain": [
       "         Date  Open      High       Low     Close  Adj Close   Volume\n",
       "0  1962-01-02   0.0  1.589844  1.578125  1.578125   0.095784   902400\n",
       "1  1962-01-03   0.0  1.601563  1.578125  1.601563   0.097206  1200000\n",
       "2  1962-01-04   0.0  1.613281  1.597656  1.605469   0.097444  1088000\n",
       "3  1962-01-05   0.0  1.613281  1.566406  1.570313   0.095310  1222400\n",
       "4  1962-01-08   0.0  1.582031  1.546875  1.566406   0.095073  1388800"
      ]
     },
     "execution_count": 3,
     "metadata": {},
     "output_type": "execute_result"
    }
   ],
   "source": [
    "XOM.head()"
   ]
  },
  {
   "cell_type": "code",
   "execution_count": 5,
   "id": "3d2a90c3-daea-444e-a3db-cd57f15a4eb8",
   "metadata": {},
   "outputs": [
    {
     "data": {
      "text/html": [
       "<div>\n",
       "<style scoped>\n",
       "    .dataframe tbody tr th:only-of-type {\n",
       "        vertical-align: middle;\n",
       "    }\n",
       "\n",
       "    .dataframe tbody tr th {\n",
       "        vertical-align: top;\n",
       "    }\n",
       "\n",
       "    .dataframe thead th {\n",
       "        text-align: right;\n",
       "    }\n",
       "</style>\n",
       "<table border=\"1\" class=\"dataframe\">\n",
       "  <thead>\n",
       "    <tr style=\"text-align: right;\">\n",
       "      <th></th>\n",
       "      <th>Open</th>\n",
       "      <th>High</th>\n",
       "      <th>Low</th>\n",
       "      <th>Close</th>\n",
       "      <th>Adj Close</th>\n",
       "      <th>Volume</th>\n",
       "    </tr>\n",
       "    <tr>\n",
       "      <th>Date</th>\n",
       "      <th></th>\n",
       "      <th></th>\n",
       "      <th></th>\n",
       "      <th></th>\n",
       "      <th></th>\n",
       "      <th></th>\n",
       "    </tr>\n",
       "  </thead>\n",
       "  <tbody>\n",
       "    <tr>\n",
       "      <th>1962-01-02</th>\n",
       "      <td>0.0</td>\n",
       "      <td>1.589844</td>\n",
       "      <td>1.578125</td>\n",
       "      <td>1.578125</td>\n",
       "      <td>0.095784</td>\n",
       "      <td>902400</td>\n",
       "    </tr>\n",
       "    <tr>\n",
       "      <th>1962-01-03</th>\n",
       "      <td>0.0</td>\n",
       "      <td>1.601563</td>\n",
       "      <td>1.578125</td>\n",
       "      <td>1.601563</td>\n",
       "      <td>0.097206</td>\n",
       "      <td>1200000</td>\n",
       "    </tr>\n",
       "    <tr>\n",
       "      <th>1962-01-04</th>\n",
       "      <td>0.0</td>\n",
       "      <td>1.613281</td>\n",
       "      <td>1.597656</td>\n",
       "      <td>1.605469</td>\n",
       "      <td>0.097444</td>\n",
       "      <td>1088000</td>\n",
       "    </tr>\n",
       "    <tr>\n",
       "      <th>1962-01-05</th>\n",
       "      <td>0.0</td>\n",
       "      <td>1.613281</td>\n",
       "      <td>1.566406</td>\n",
       "      <td>1.570313</td>\n",
       "      <td>0.095310</td>\n",
       "      <td>1222400</td>\n",
       "    </tr>\n",
       "    <tr>\n",
       "      <th>1962-01-08</th>\n",
       "      <td>0.0</td>\n",
       "      <td>1.582031</td>\n",
       "      <td>1.546875</td>\n",
       "      <td>1.566406</td>\n",
       "      <td>0.095073</td>\n",
       "      <td>1388800</td>\n",
       "    </tr>\n",
       "  </tbody>\n",
       "</table>\n",
       "</div>"
      ],
      "text/plain": [
       "            Open      High       Low     Close  Adj Close   Volume\n",
       "Date                                                              \n",
       "1962-01-02   0.0  1.589844  1.578125  1.578125   0.095784   902400\n",
       "1962-01-03   0.0  1.601563  1.578125  1.601563   0.097206  1200000\n",
       "1962-01-04   0.0  1.613281  1.597656  1.605469   0.097444  1088000\n",
       "1962-01-05   0.0  1.613281  1.566406  1.570313   0.095310  1222400\n",
       "1962-01-08   0.0  1.582031  1.546875  1.566406   0.095073  1388800"
      ]
     },
     "execution_count": 5,
     "metadata": {},
     "output_type": "execute_result"
    }
   ],
   "source": [
    "XOM = pd.read_csv(\"XOM.csv\", index_col = 0)\n",
    "XOM.head()"
   ]
  },
  {
   "cell_type": "code",
   "execution_count": 7,
   "id": "18000a57-0bcb-4d1f-b2da-75904dbba7ca",
   "metadata": {},
   "outputs": [
    {
     "name": "stdout",
     "output_type": "stream",
     "text": [
      "0.997174982990766\n"
     ]
    }
   ],
   "source": [
    "print(adfuller(XOM[\"Adj Close\"])[1])"
   ]
  },
  {
   "cell_type": "markdown",
   "id": "4aefa808",
   "metadata": {},
   "source": [
    "## Detrending and test again"
   ]
  },
  {
   "cell_type": "code",
   "execution_count": 12,
   "id": "a225a1cf",
   "metadata": {},
   "outputs": [
    {
     "name": "stdout",
     "output_type": "stream",
     "text": [
      "0.0\n"
     ]
    }
   ],
   "source": [
    "returns = 100*XOM[\"Adj Close\"].pct_change().dropna()\n",
    "returns.head()\n",
    "print(adfuller(returns)[1])"
   ]
  },
  {
   "cell_type": "markdown",
   "id": "b9e90146",
   "metadata": {},
   "source": [
    "## Arch Model"
   ]
  },
  {
   "cell_type": "code",
   "execution_count": 14,
   "id": "69079513",
   "metadata": {},
   "outputs": [
    {
     "name": "stdout",
     "output_type": "stream",
     "text": [
      "Iteration:      1,   Func. Count:      6,   Neg. LLF: 46440597308301.22\n",
      "Iteration:      2,   Func. Count:     15,   Neg. LLF: 8605240070.155796\n",
      "Iteration:      3,   Func. Count:     22,   Neg. LLF: 29209.21698590633\n",
      "Iteration:      4,   Func. Count:     29,   Neg. LLF: 27035.60107619887\n",
      "Iteration:      5,   Func. Count:     37,   Neg. LLF: 26583.444638080655\n",
      "Iteration:      6,   Func. Count:     42,   Neg. LLF: 26583.440842228898\n",
      "Iteration:      7,   Func. Count:     46,   Neg. LLF: 26583.440842229356\n",
      "Optimization terminated successfully    (Exit mode 0)\n",
      "            Current function value: 26583.440842228898\n",
      "            Iterations: 7\n",
      "            Function evaluations: 46\n",
      "            Gradient evaluations: 7\n",
      "                      Constant Mean - ARCH Model Results                      \n",
      "==============================================================================\n",
      "Dep. Variable:              Adj Close   R-squared:                       0.000\n",
      "Mean Model:             Constant Mean   Adj. R-squared:                  0.000\n",
      "Vol Model:                       ARCH   Log-Likelihood:               -26583.4\n",
      "Distribution:                  Normal   AIC:                           53174.9\n",
      "Method:            Maximum Likelihood   BIC:                           53205.5\n",
      "                                        No. Observations:                15634\n",
      "Date:                Mon, Mar 04 2024   Df Residuals:                    15633\n",
      "Time:                        10:54:42   Df Model:                            1\n",
      "                                 Mean Model                                 \n",
      "============================================================================\n",
      "                 coef    std err          t      P>|t|      95.0% Conf. Int.\n",
      "----------------------------------------------------------------------------\n",
      "mu             0.0699  1.034e-02      6.762  1.358e-11 [4.967e-02,9.021e-02]\n",
      "                            Volatility Model                            \n",
      "========================================================================\n",
      "                 coef    std err          t      P>|t|  95.0% Conf. Int.\n",
      "------------------------------------------------------------------------\n",
      "omega          1.1304  3.353e-02     33.709 4.296e-249 [  1.065,  1.196]\n",
      "alpha[1]       0.2318  2.354e-02      9.844  7.253e-23 [  0.186,  0.278]\n",
      "alpha[2]       0.2185  1.860e-02     11.746  7.398e-32 [  0.182,  0.255]\n",
      "========================================================================\n",
      "\n",
      "Covariance estimator: robust\n"
     ]
    }
   ],
   "source": [
    "am = arch_model(returns, vol=\"Arch\", p=2)\n",
    "res=am.fit()\n",
    "print(res.summary())"
   ]
  },
  {
   "cell_type": "markdown",
   "id": "5787fbce",
   "metadata": {},
   "source": [
    "## GARCH Model"
   ]
  },
  {
   "cell_type": "code",
   "execution_count": 15,
   "id": "82618039",
   "metadata": {},
   "outputs": [
    {
     "name": "stdout",
     "output_type": "stream",
     "text": [
      "Iteration:      1,   Func. Count:      6,   Neg. LLF: 106765.97296348024\n",
      "Iteration:      2,   Func. Count:     15,   Neg. LLF: 113035.03907992158\n",
      "Iteration:      3,   Func. Count:     25,   Neg. LLF: 1639953133.5120692\n",
      "Iteration:      4,   Func. Count:     31,   Neg. LLF: 25864.688491152803\n",
      "Iteration:      5,   Func. Count:     37,   Neg. LLF: 44568.51611593839\n",
      "Iteration:      6,   Func. Count:     43,   Neg. LLF: 25935.64289763202\n",
      "Iteration:      7,   Func. Count:     50,   Neg. LLF: 25832.299455999266\n",
      "Iteration:      8,   Func. Count:     55,   Neg. LLF: 25832.265061842394\n",
      "Iteration:      9,   Func. Count:     60,   Neg. LLF: 25832.264754968568\n",
      "Iteration:     10,   Func. Count:     65,   Neg. LLF: 25832.26472866698\n",
      "Iteration:     11,   Func. Count:     69,   Neg. LLF: 25832.264728662638\n",
      "Optimization terminated successfully    (Exit mode 0)\n",
      "            Current function value: 25832.26472866698\n",
      "            Iterations: 11\n",
      "            Function evaluations: 69\n",
      "            Gradient evaluations: 11\n",
      "                     Constant Mean - GARCH Model Results                      \n",
      "==============================================================================\n",
      "Dep. Variable:              Adj Close   R-squared:                       0.000\n",
      "Mean Model:             Constant Mean   Adj. R-squared:                  0.000\n",
      "Vol Model:                      GARCH   Log-Likelihood:               -25832.3\n",
      "Distribution:                  Normal   AIC:                           51672.5\n",
      "Method:            Maximum Likelihood   BIC:                           51703.2\n",
      "                                        No. Observations:                15634\n",
      "Date:                Mon, Mar 04 2024   Df Residuals:                    15633\n",
      "Time:                        10:55:03   Df Model:                            1\n",
      "                                 Mean Model                                 \n",
      "============================================================================\n",
      "                 coef    std err          t      P>|t|      95.0% Conf. Int.\n",
      "----------------------------------------------------------------------------\n",
      "mu             0.0603  9.269e-03      6.502  7.910e-11 [4.210e-02,7.843e-02]\n",
      "                              Volatility Model                              \n",
      "============================================================================\n",
      "                 coef    std err          t      P>|t|      95.0% Conf. Int.\n",
      "----------------------------------------------------------------------------\n",
      "omega          0.0343  6.515e-03      5.257  1.465e-07 [2.148e-02,4.702e-02]\n",
      "alpha[1]       0.0813  1.033e-02      7.874  3.448e-15   [6.107e-02,  0.102]\n",
      "beta[1]        0.9020  1.190e-02     75.767      0.000     [  0.879,  0.925]\n",
      "============================================================================\n",
      "\n",
      "Covariance estimator: robust\n"
     ]
    }
   ],
   "source": [
    "am = arch_model(returns, vol=\"Garch\")\n",
    "res=am.fit()\n",
    "print(res.summary())"
   ]
  },
  {
   "cell_type": "code",
   "execution_count": null,
   "id": "0352901c-c503-4ce4-b56d-c79a8a7009f2",
   "metadata": {},
   "outputs": [],
   "source": []
  }
 ],
 "metadata": {
  "kernelspec": {
   "display_name": "Python 3 (ipykernel)",
   "language": "python",
   "name": "python3"
  },
  "language_info": {
   "codemirror_mode": {
    "name": "ipython",
    "version": 3
   },
   "file_extension": ".py",
   "mimetype": "text/x-python",
   "name": "python",
   "nbconvert_exporter": "python",
   "pygments_lexer": "ipython3",
   "version": "3.11.7"
  }
 },
 "nbformat": 4,
 "nbformat_minor": 5
}
